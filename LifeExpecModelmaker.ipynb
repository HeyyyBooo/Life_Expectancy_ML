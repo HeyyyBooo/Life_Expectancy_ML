{
 "cells": [
  {
   "cell_type": "code",
   "execution_count": 1,
   "id": "8b67ddf3",
   "metadata": {},
   "outputs": [],
   "source": [
    "import numpy as np\n",
    "import matplotlib.pyplot as plt\n",
    "import pandas as pd"
   ]
  },
  {
   "cell_type": "code",
   "execution_count": 255,
   "id": "078df080",
   "metadata": {},
   "outputs": [],
   "source": [
    "dataset = pd.read_csv('indo_pak.csv')\n",
    "X = dataset.iloc[:, 1:-1].values\n",
    "y = dataset.iloc[:, -1].values"
   ]
  },
  {
   "cell_type": "code",
   "execution_count": 256,
   "id": "1c31dbf5",
   "metadata": {
    "scrolled": true
   },
   "outputs": [
    {
     "name": "stdout",
     "output_type": "stream",
     "text": [
      "[[2017.    31.    23.    79.    82. ]\n",
      " [2021.    30.    22.4   79.    82. ]\n",
      " [2018.    19.3   20.9   69.     7. ]\n",
      " [2019.     9.3   17.4   57.    58. ]\n",
      " [2020.    13.7   19.9   66.    65. ]\n",
      " [2022.    30.7   24.1   84.    85. ]\n",
      " [2020.    12.    19.    58.    63. ]\n",
      " [2017.    12.7   19.5   65.    65. ]\n",
      " [2021.     5.    24.7   86.    87. ]\n",
      " [2018.    11.    18.2   58.    59. ]\n",
      " [2019.    31.1   23.5   82.    83. ]\n",
      " [2020.    27.7   21.9   76.    79. ]\n",
      " [2019.    11.9   18.6   57.    61. ]\n",
      " [2017.    15.9   20.4   67.    64. ]\n",
      " [2018.    10.    17.8   58.    59. ]\n",
      " [2021.    25.    21.4   73.    74. ]\n",
      " [2019.    31.1   23.5   82.    83. ]\n",
      " [2020.    13.7   19.9   66.    65. ]\n",
      " [2021.    25.    21.4   73.    74. ]\n",
      " [2018.    27.7   21.9   76.    79. ]\n",
      " [2017.     9.3   17.4   57.    58. ]\n",
      " [2022.     5.    24.7   86.    87. ]\n",
      " [2022.    30.7   24.1   84.    85. ]\n",
      " [2017.    15.9   20.4   67.    64. ]\n",
      " [2020.    12.    19.    58.    63. ]\n",
      " [2021.    31.    23.    79.    82. ]\n",
      " [2018.    19.3   20.9   69.     7. ]\n",
      " [2019.    10.    17.8   58.    59. ]\n",
      " [2017.    12.7   19.5   65.    65. ]\n",
      " [2019.    11.9   18.6   57.    61. ]\n",
      " [2020.    11.    18.2   58.    59. ]\n",
      " [2021.    30.    22.4   79.    82. ]\n",
      " [2019.    31.1   23.5   82.    83. ]\n",
      " [2017.     5.    24.7   86.    87. ]\n",
      " [2021.    15.9   20.4   67.    64. ]\n",
      " [2018.     9.3   17.4   57.    58. ]\n",
      " [2020.    25.    21.4   73.    74. ]\n",
      " [2017.    13.7   19.9   66.    65. ]\n",
      " [2018.    27.7   21.9   76.    79. ]\n",
      " [2022.    19.3   20.9   69.     7. ]\n",
      " [2022.    30.7   24.1   84.    85. ]\n",
      " [2017.    12.7   19.5   65.    65. ]\n",
      " [2019.    12.    19.    58.    63. ]\n",
      " [2020.    11.    18.2   58.    59. ]\n",
      " [2021.    31.    23.    79.    82. ]\n",
      " [2018.    30.    22.4   79.    82. ]\n",
      " [2019.    10.    17.8   58.    59. ]\n",
      " [2022.    11.9   18.6   57.    61. ]\n",
      " [2021.    25.    21.4   73.    74. ]\n",
      " [2017.    31.1   23.5   82.    83. ]\n",
      " [2020.    27.7   21.9   76.    79. ]\n",
      " [2018.    13.7   19.9   66.    65. ]\n",
      " [2021.    19.3   20.9   69.     7. ]\n",
      " [2019.     5.    24.7   86.    87. ]\n",
      " [2017.    30.7   24.1   84.    85. ]\n",
      " [2020.    12.    19.    58.    63. ]\n",
      " [2022.    12.7   19.5   65.    65. ]\n",
      " [2021.    10.    17.8   58.    59. ]\n",
      " [2018.    11.9   18.6   57.    61. ]\n",
      " [2019.    11.    18.2   58.    59. ]]\n"
     ]
    }
   ],
   "source": [
    "print(X)\n"
   ]
  },
  {
   "cell_type": "code",
   "execution_count": 257,
   "id": "42f26898",
   "metadata": {},
   "outputs": [
    {
     "name": "stdout",
     "output_type": "stream",
     "text": [
      "[53.3 52.8 65.5 62.5 64.8 40.  64.  64.4 80.3 63.3 43.6 51.4 63.7 65.2\n",
      " 62.9 66.  43.6 64.8 66.  51.4 62.5 80.3 40.  65.2 64.  53.3 65.5 62.9\n",
      " 64.4 63.7 63.3 52.8 43.6 80.3 65.2 62.5 66.  64.8 51.4 65.5 40.  64.4\n",
      " 64.  63.3 53.3 52.8 62.9 63.7 66.  43.6 51.4 64.8 65.5 80.3 40.  64.\n",
      " 64.4 62.9 63.7 63.3]\n"
     ]
    }
   ],
   "source": [
    "print(y)"
   ]
  },
  {
   "cell_type": "code",
   "execution_count": 258,
   "id": "f81902da",
   "metadata": {
    "scrolled": true
   },
   "outputs": [
    {
     "data": {
      "text/html": [
       "<style>#sk-container-id-28 {color: black;}#sk-container-id-28 pre{padding: 0;}#sk-container-id-28 div.sk-toggleable {background-color: white;}#sk-container-id-28 label.sk-toggleable__label {cursor: pointer;display: block;width: 100%;margin-bottom: 0;padding: 0.3em;box-sizing: border-box;text-align: center;}#sk-container-id-28 label.sk-toggleable__label-arrow:before {content: \"▸\";float: left;margin-right: 0.25em;color: #696969;}#sk-container-id-28 label.sk-toggleable__label-arrow:hover:before {color: black;}#sk-container-id-28 div.sk-estimator:hover label.sk-toggleable__label-arrow:before {color: black;}#sk-container-id-28 div.sk-toggleable__content {max-height: 0;max-width: 0;overflow: hidden;text-align: left;background-color: #f0f8ff;}#sk-container-id-28 div.sk-toggleable__content pre {margin: 0.2em;color: black;border-radius: 0.25em;background-color: #f0f8ff;}#sk-container-id-28 input.sk-toggleable__control:checked~div.sk-toggleable__content {max-height: 200px;max-width: 100%;overflow: auto;}#sk-container-id-28 input.sk-toggleable__control:checked~label.sk-toggleable__label-arrow:before {content: \"▾\";}#sk-container-id-28 div.sk-estimator input.sk-toggleable__control:checked~label.sk-toggleable__label {background-color: #d4ebff;}#sk-container-id-28 div.sk-label input.sk-toggleable__control:checked~label.sk-toggleable__label {background-color: #d4ebff;}#sk-container-id-28 input.sk-hidden--visually {border: 0;clip: rect(1px 1px 1px 1px);clip: rect(1px, 1px, 1px, 1px);height: 1px;margin: -1px;overflow: hidden;padding: 0;position: absolute;width: 1px;}#sk-container-id-28 div.sk-estimator {font-family: monospace;background-color: #f0f8ff;border: 1px dotted black;border-radius: 0.25em;box-sizing: border-box;margin-bottom: 0.5em;}#sk-container-id-28 div.sk-estimator:hover {background-color: #d4ebff;}#sk-container-id-28 div.sk-parallel-item::after {content: \"\";width: 100%;border-bottom: 1px solid gray;flex-grow: 1;}#sk-container-id-28 div.sk-label:hover label.sk-toggleable__label {background-color: #d4ebff;}#sk-container-id-28 div.sk-serial::before {content: \"\";position: absolute;border-left: 1px solid gray;box-sizing: border-box;top: 0;bottom: 0;left: 50%;z-index: 0;}#sk-container-id-28 div.sk-serial {display: flex;flex-direction: column;align-items: center;background-color: white;padding-right: 0.2em;padding-left: 0.2em;position: relative;}#sk-container-id-28 div.sk-item {position: relative;z-index: 1;}#sk-container-id-28 div.sk-parallel {display: flex;align-items: stretch;justify-content: center;background-color: white;position: relative;}#sk-container-id-28 div.sk-item::before, #sk-container-id-28 div.sk-parallel-item::before {content: \"\";position: absolute;border-left: 1px solid gray;box-sizing: border-box;top: 0;bottom: 0;left: 50%;z-index: -1;}#sk-container-id-28 div.sk-parallel-item {display: flex;flex-direction: column;z-index: 1;position: relative;background-color: white;}#sk-container-id-28 div.sk-parallel-item:first-child::after {align-self: flex-end;width: 50%;}#sk-container-id-28 div.sk-parallel-item:last-child::after {align-self: flex-start;width: 50%;}#sk-container-id-28 div.sk-parallel-item:only-child::after {width: 0;}#sk-container-id-28 div.sk-dashed-wrapped {border: 1px dashed gray;margin: 0 0.4em 0.5em 0.4em;box-sizing: border-box;padding-bottom: 0.4em;background-color: white;}#sk-container-id-28 div.sk-label label {font-family: monospace;font-weight: bold;display: inline-block;line-height: 1.2em;}#sk-container-id-28 div.sk-label-container {text-align: center;}#sk-container-id-28 div.sk-container {/* jupyter's `normalize.less` sets `[hidden] { display: none; }` but bootstrap.min.css set `[hidden] { display: none !important; }` so we also need the `!important` here to be able to override the default hidden behavior on the sphinx rendered scikit-learn.org. See: https://github.com/scikit-learn/scikit-learn/issues/21755 */display: inline-block !important;position: relative;}#sk-container-id-28 div.sk-text-repr-fallback {display: none;}</style><div id=\"sk-container-id-28\" class=\"sk-top-container\"><div class=\"sk-text-repr-fallback\"><pre>LinearRegression()</pre><b>In a Jupyter environment, please rerun this cell to show the HTML representation or trust the notebook. <br />On GitHub, the HTML representation is unable to render, please try loading this page with nbviewer.org.</b></div><div class=\"sk-container\" hidden><div class=\"sk-item\"><div class=\"sk-estimator sk-toggleable\"><input class=\"sk-toggleable__control sk-hidden--visually\" id=\"sk-estimator-id-28\" type=\"checkbox\" checked><label for=\"sk-estimator-id-28\" class=\"sk-toggleable__label sk-toggleable__label-arrow\">LinearRegression</label><div class=\"sk-toggleable__content\"><pre>LinearRegression()</pre></div></div></div></div></div>"
      ],
      "text/plain": [
       "LinearRegression()"
      ]
     },
     "execution_count": 258,
     "metadata": {},
     "output_type": "execute_result"
    }
   ],
   "source": [
    "from sklearn.linear_model import LinearRegression\n",
    "regressor = LinearRegression()\n",
    "regressor.fit(X, y)"
   ]
  },
  {
   "cell_type": "code",
   "execution_count": 263,
   "id": "59516ee2",
   "metadata": {
    "scrolled": false
   },
   "outputs": [
    {
     "data": {
      "text/plain": [
       "array([86.10057749])"
      ]
     },
     "execution_count": 263,
     "metadata": {},
     "output_type": "execute_result"
    }
   ],
   "source": [
    "regressor.predict([[2024,0,30,79,82]])"
   ]
  },
  {
   "cell_type": "code",
   "execution_count": 271,
   "id": "8c9794f7",
   "metadata": {},
   "outputs": [
    {
     "data": {
      "text/plain": [
       "['pak.pkl']"
      ]
     },
     "execution_count": 271,
     "metadata": {},
     "output_type": "execute_result"
    }
   ],
   "source": [
    "import joblib\n",
    "joblib.dump(regressor, \"pak.pkl\")"
   ]
  },
  {
   "cell_type": "code",
   "execution_count": 265,
   "id": "430523eb",
   "metadata": {},
   "outputs": [],
   "source": [
    "model = joblib.load(\"india.pkl\")"
   ]
  },
  {
   "cell_type": "code",
   "execution_count": 266,
   "id": "a0fb0e9e",
   "metadata": {},
   "outputs": [
    {
     "data": {
      "text/plain": [
       "array([65.0032142])"
      ]
     },
     "execution_count": 266,
     "metadata": {},
     "output_type": "execute_result"
    }
   ],
   "source": [
    "model.predict([[2024,10,21,30,24]])"
   ]
  },
  {
   "cell_type": "code",
   "execution_count": 267,
   "id": "0b951129",
   "metadata": {},
   "outputs": [
    {
     "data": {
      "text/plain": [
       "array([60.0684332])"
      ]
     },
     "execution_count": 267,
     "metadata": {},
     "output_type": "execute_result"
    }
   ],
   "source": [
    "model.predict([[2024,10,7,30,24]])"
   ]
  },
  {
   "cell_type": "code",
   "execution_count": 268,
   "id": "0ffa0e44",
   "metadata": {},
   "outputs": [
    {
     "data": {
      "text/plain": [
       "array([48.35183818])"
      ]
     },
     "execution_count": 268,
     "metadata": {},
     "output_type": "execute_result"
    }
   ],
   "source": [
    "model.predict([[2015,    12,    19.1 ,   6,    65.]])"
   ]
  },
  {
   "cell_type": "code",
   "execution_count": 269,
   "id": "1fe7b938",
   "metadata": {},
   "outputs": [
    {
     "data": {
      "text/plain": [
       "array([70.46788889])"
      ]
     },
     "execution_count": 269,
     "metadata": {},
     "output_type": "execute_result"
    }
   ],
   "source": [
    "model.predict([[2024,10,7,97,96]])"
   ]
  },
  {
   "cell_type": "code",
   "execution_count": 270,
   "id": "a7005160",
   "metadata": {},
   "outputs": [
    {
     "data": {
      "text/plain": [
       "array([75.40266989])"
      ]
     },
     "execution_count": 270,
     "metadata": {},
     "output_type": "execute_result"
    }
   ],
   "source": [
    "model.predict([[2024,10,21,97,96]])"
   ]
  },
  {
   "cell_type": "code",
   "execution_count": null,
   "id": "14e2198a",
   "metadata": {},
   "outputs": [],
   "source": []
  },
  {
   "cell_type": "code",
   "execution_count": null,
   "id": "e88c9d98",
   "metadata": {},
   "outputs": [],
   "source": []
  }
 ],
 "metadata": {
  "kernelspec": {
   "display_name": "Python 3 (ipykernel)",
   "language": "python",
   "name": "python3"
  },
  "language_info": {
   "codemirror_mode": {
    "name": "ipython",
    "version": 3
   },
   "file_extension": ".py",
   "mimetype": "text/x-python",
   "name": "python",
   "nbconvert_exporter": "python",
   "pygments_lexer": "ipython3",
   "version": "3.11.5"
  }
 },
 "nbformat": 4,
 "nbformat_minor": 5
}
